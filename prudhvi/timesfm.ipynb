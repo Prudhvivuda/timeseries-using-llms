{
 "cells": [
  {
   "cell_type": "code",
   "execution_count": 1,
   "metadata": {
    "colab": {
     "base_uri": "https://localhost:8080/"
    },
    "executionInfo": {
     "elapsed": 3351,
     "status": "ok",
     "timestamp": 1745368700427,
     "user": {
      "displayName": "Prudhvi Vuda",
      "userId": "03491555400063096738"
     },
     "user_tz": 240
    },
    "id": "XQwkFQ7y5GXX",
    "outputId": "b6aaf293-1805-4f9d-f6cf-cfea1425117b"
   },
   "outputs": [
    {
     "name": "stdout",
     "output_type": "stream",
     "text": [
      "Requirement already satisfied: timesfm in /usr/local/lib/python3.11/dist-packages (1.2.9)\n",
      "Requirement already satisfied: absl-py>=1.4.0 in /usr/local/lib/python3.11/dist-packages (from timesfm) (1.4.0)\n",
      "Requirement already satisfied: einshape>=1.0.0 in /usr/local/lib/python3.11/dist-packages (from timesfm) (1.0)\n",
      "Requirement already satisfied: huggingface_hub>=0.23.0 in /usr/local/lib/python3.11/dist-packages (from huggingface_hub[cli]>=0.23.0->timesfm) (0.30.2)\n",
      "Requirement already satisfied: numpy>=1.26.4 in /usr/local/lib/python3.11/dist-packages (from timesfm) (2.0.2)\n",
      "Requirement already satisfied: pandas>=2.0.0 in /usr/local/lib/python3.11/dist-packages (from timesfm) (2.2.2)\n",
      "Requirement already satisfied: scikit-learn>=1.2.2 in /usr/local/lib/python3.11/dist-packages (from timesfm) (1.6.1)\n",
      "Requirement already satisfied: typer>=0.12.3 in /usr/local/lib/python3.11/dist-packages (from timesfm) (0.15.2)\n",
      "Requirement already satisfied: utilsforecast>=0.1.10 in /usr/local/lib/python3.11/dist-packages (from timesfm) (0.2.12)\n",
      "Requirement already satisfied: wandb>=0.17.5 in /usr/local/lib/python3.11/dist-packages (from timesfm) (0.19.9)\n",
      "Requirement already satisfied: filelock in /usr/local/lib/python3.11/dist-packages (from huggingface_hub>=0.23.0->huggingface_hub[cli]>=0.23.0->timesfm) (3.18.0)\n",
      "Requirement already satisfied: fsspec>=2023.5.0 in /usr/local/lib/python3.11/dist-packages (from huggingface_hub>=0.23.0->huggingface_hub[cli]>=0.23.0->timesfm) (2025.3.2)\n",
      "Requirement already satisfied: packaging>=20.9 in /usr/local/lib/python3.11/dist-packages (from huggingface_hub>=0.23.0->huggingface_hub[cli]>=0.23.0->timesfm) (24.2)\n",
      "Requirement already satisfied: pyyaml>=5.1 in /usr/local/lib/python3.11/dist-packages (from huggingface_hub>=0.23.0->huggingface_hub[cli]>=0.23.0->timesfm) (6.0.2)\n",
      "Requirement already satisfied: requests in /usr/local/lib/python3.11/dist-packages (from huggingface_hub>=0.23.0->huggingface_hub[cli]>=0.23.0->timesfm) (2.32.3)\n",
      "Requirement already satisfied: tqdm>=4.42.1 in /usr/local/lib/python3.11/dist-packages (from huggingface_hub>=0.23.0->huggingface_hub[cli]>=0.23.0->timesfm) (4.67.1)\n",
      "Requirement already satisfied: typing-extensions>=3.7.4.3 in /usr/local/lib/python3.11/dist-packages (from huggingface_hub>=0.23.0->huggingface_hub[cli]>=0.23.0->timesfm) (4.13.2)\n",
      "Requirement already satisfied: InquirerPy==0.3.4 in /usr/local/lib/python3.11/dist-packages (from huggingface_hub[cli]>=0.23.0->timesfm) (0.3.4)\n",
      "Requirement already satisfied: pfzy<0.4.0,>=0.3.1 in /usr/local/lib/python3.11/dist-packages (from InquirerPy==0.3.4->huggingface_hub[cli]>=0.23.0->timesfm) (0.3.4)\n",
      "Requirement already satisfied: prompt-toolkit<4.0.0,>=3.0.1 in /usr/local/lib/python3.11/dist-packages (from InquirerPy==0.3.4->huggingface_hub[cli]>=0.23.0->timesfm) (3.0.51)\n",
      "Requirement already satisfied: python-dateutil>=2.8.2 in /usr/local/lib/python3.11/dist-packages (from pandas>=2.0.0->timesfm) (2.8.2)\n",
      "Requirement already satisfied: pytz>=2020.1 in /usr/local/lib/python3.11/dist-packages (from pandas>=2.0.0->timesfm) (2025.2)\n",
      "Requirement already satisfied: tzdata>=2022.7 in /usr/local/lib/python3.11/dist-packages (from pandas>=2.0.0->timesfm) (2025.2)\n",
      "Requirement already satisfied: scipy>=1.6.0 in /usr/local/lib/python3.11/dist-packages (from scikit-learn>=1.2.2->timesfm) (1.14.1)\n",
      "Requirement already satisfied: joblib>=1.2.0 in /usr/local/lib/python3.11/dist-packages (from scikit-learn>=1.2.2->timesfm) (1.4.2)\n",
      "Requirement already satisfied: threadpoolctl>=3.1.0 in /usr/local/lib/python3.11/dist-packages (from scikit-learn>=1.2.2->timesfm) (3.6.0)\n",
      "Requirement already satisfied: click>=8.0.0 in /usr/local/lib/python3.11/dist-packages (from typer>=0.12.3->timesfm) (8.1.8)\n",
      "Requirement already satisfied: shellingham>=1.3.0 in /usr/local/lib/python3.11/dist-packages (from typer>=0.12.3->timesfm) (1.5.4)\n",
      "Requirement already satisfied: rich>=10.11.0 in /usr/local/lib/python3.11/dist-packages (from typer>=0.12.3->timesfm) (13.9.4)\n",
      "Requirement already satisfied: docker-pycreds>=0.4.0 in /usr/local/lib/python3.11/dist-packages (from wandb>=0.17.5->timesfm) (0.4.0)\n",
      "Requirement already satisfied: gitpython!=3.1.29,>=1.0.0 in /usr/local/lib/python3.11/dist-packages (from wandb>=0.17.5->timesfm) (3.1.44)\n",
      "Requirement already satisfied: platformdirs in /usr/local/lib/python3.11/dist-packages (from wandb>=0.17.5->timesfm) (4.3.7)\n",
      "Requirement already satisfied: protobuf!=4.21.0,!=5.28.0,<6,>=3.19.0 in /usr/local/lib/python3.11/dist-packages (from wandb>=0.17.5->timesfm) (5.29.4)\n",
      "Requirement already satisfied: psutil>=5.0.0 in /usr/local/lib/python3.11/dist-packages (from wandb>=0.17.5->timesfm) (5.9.5)\n",
      "Requirement already satisfied: pydantic<3 in /usr/local/lib/python3.11/dist-packages (from wandb>=0.17.5->timesfm) (2.11.3)\n",
      "Requirement already satisfied: sentry-sdk>=2.0.0 in /usr/local/lib/python3.11/dist-packages (from wandb>=0.17.5->timesfm) (2.26.1)\n",
      "Requirement already satisfied: setproctitle in /usr/local/lib/python3.11/dist-packages (from wandb>=0.17.5->timesfm) (1.3.5)\n",
      "Requirement already satisfied: setuptools in /usr/local/lib/python3.11/dist-packages (from wandb>=0.17.5->timesfm) (75.2.0)\n",
      "Requirement already satisfied: six>=1.4.0 in /usr/local/lib/python3.11/dist-packages (from docker-pycreds>=0.4.0->wandb>=0.17.5->timesfm) (1.17.0)\n",
      "Requirement already satisfied: gitdb<5,>=4.0.1 in /usr/local/lib/python3.11/dist-packages (from gitpython!=3.1.29,>=1.0.0->wandb>=0.17.5->timesfm) (4.0.12)\n",
      "Requirement already satisfied: annotated-types>=0.6.0 in /usr/local/lib/python3.11/dist-packages (from pydantic<3->wandb>=0.17.5->timesfm) (0.7.0)\n",
      "Requirement already satisfied: pydantic-core==2.33.1 in /usr/local/lib/python3.11/dist-packages (from pydantic<3->wandb>=0.17.5->timesfm) (2.33.1)\n",
      "Requirement already satisfied: typing-inspection>=0.4.0 in /usr/local/lib/python3.11/dist-packages (from pydantic<3->wandb>=0.17.5->timesfm) (0.4.0)\n",
      "Requirement already satisfied: charset-normalizer<4,>=2 in /usr/local/lib/python3.11/dist-packages (from requests->huggingface_hub>=0.23.0->huggingface_hub[cli]>=0.23.0->timesfm) (3.4.1)\n",
      "Requirement already satisfied: idna<4,>=2.5 in /usr/local/lib/python3.11/dist-packages (from requests->huggingface_hub>=0.23.0->huggingface_hub[cli]>=0.23.0->timesfm) (3.10)\n",
      "Requirement already satisfied: urllib3<3,>=1.21.1 in /usr/local/lib/python3.11/dist-packages (from requests->huggingface_hub>=0.23.0->huggingface_hub[cli]>=0.23.0->timesfm) (2.3.0)\n",
      "Requirement already satisfied: certifi>=2017.4.17 in /usr/local/lib/python3.11/dist-packages (from requests->huggingface_hub>=0.23.0->huggingface_hub[cli]>=0.23.0->timesfm) (2025.1.31)\n",
      "Requirement already satisfied: markdown-it-py>=2.2.0 in /usr/local/lib/python3.11/dist-packages (from rich>=10.11.0->typer>=0.12.3->timesfm) (3.0.0)\n",
      "Requirement already satisfied: pygments<3.0.0,>=2.13.0 in /usr/local/lib/python3.11/dist-packages (from rich>=10.11.0->typer>=0.12.3->timesfm) (2.18.0)\n",
      "Requirement already satisfied: smmap<6,>=3.0.1 in /usr/local/lib/python3.11/dist-packages (from gitdb<5,>=4.0.1->gitpython!=3.1.29,>=1.0.0->wandb>=0.17.5->timesfm) (5.0.2)\n",
      "Requirement already satisfied: mdurl~=0.1 in /usr/local/lib/python3.11/dist-packages (from markdown-it-py>=2.2.0->rich>=10.11.0->typer>=0.12.3->timesfm) (0.1.2)\n",
      "Requirement already satisfied: wcwidth in /usr/local/lib/python3.11/dist-packages (from prompt-toolkit<4.0.0,>=3.0.1->InquirerPy==0.3.4->huggingface_hub[cli]>=0.23.0->timesfm) (0.2.13)\n"
     ]
    }
   ],
   "source": [
    "pip install timesfm"
   ]
  },
  {
   "cell_type": "code",
   "execution_count": 2,
   "metadata": {
    "colab": {
     "base_uri": "https://localhost:8080/"
    },
    "executionInfo": {
     "elapsed": 12448,
     "status": "ok",
     "timestamp": 1745368712876,
     "user": {
      "displayName": "Prudhvi Vuda",
      "userId": "03491555400063096738"
     },
     "user_tz": 240
    },
    "id": "AwcqYGra4S-1",
    "outputId": "a9635b0e-d11f-43a6-e339-a21fec302e34"
   },
   "outputs": [
    {
     "name": "stdout",
     "output_type": "stream",
     "text": [
      " See https://github.com/google-research/timesfm/blob/master/README.md for updated APIs.\n",
      "Loaded PyTorch TimesFM, likely because python version is 3.11.12 (main, Apr  9 2025, 08:55:54) [GCC 11.4.0].\n"
     ]
    }
   ],
   "source": [
    "from timesfm import TimesFm"
   ]
  },
  {
   "cell_type": "code",
   "execution_count": 3,
   "metadata": {
    "colab": {
     "base_uri": "https://localhost:8080/",
     "height": 212,
     "referenced_widgets": [
      "6c6fca62050d45518a3d7984a1bb8bb3",
      "06dd81f212de45d5a12911af21813bcc",
      "3f27f732d1fc4d3288f07ba2114c9a3b",
      "b42773a0bf044f59b2982d1c74a7d5ad",
      "44af7c37d4b84567a92913e421de37e4",
      "375d3c3f3310482c894e21da70256939",
      "e78ff3e65158419c88e0bc18df9f4e7f",
      "5b82cf80039d4130a40a1dd16da1495b",
      "7b8389e735374a0f9d1007f7f6f43dda",
      "c70a8ca5823b47438d40f41e61b0f984",
      "12f1b0b05dab4de48819625ac92876b5"
     ]
    },
    "executionInfo": {
     "elapsed": 17115,
     "status": "ok",
     "timestamp": 1745368729990,
     "user": {
      "displayName": "Prudhvi Vuda",
      "userId": "03491555400063096738"
     },
     "user_tz": 240
    },
    "id": "6Sgwgm755bLw",
    "outputId": "c5baac32-a3a9-4da7-baff-624142af429d"
   },
   "outputs": [
    {
     "name": "stderr",
     "output_type": "stream",
     "text": [
      "/usr/local/lib/python3.11/dist-packages/huggingface_hub/utils/_auth.py:94: UserWarning: \n",
      "The secret `HF_TOKEN` does not exist in your Colab secrets.\n",
      "To authenticate with the Hugging Face Hub, create a token in your settings tab (https://huggingface.co/settings/tokens), set it as secret in your Google Colab and restart your session.\n",
      "You will be able to reuse this secret in all of your notebooks.\n",
      "Please note that authentication is recommended but still optional to access public models or datasets.\n",
      "  warnings.warn(\n"
     ]
    },
    {
     "data": {
      "application/vnd.jupyter.widget-view+json": {
       "model_id": "6c6fca62050d45518a3d7984a1bb8bb3",
       "version_major": 2,
       "version_minor": 0
      },
      "text/plain": [
       "Fetching 5 files:   0%|          | 0/5 [00:00<?, ?it/s]"
      ]
     },
     "metadata": {},
     "output_type": "display_data"
    },
    {
     "name": "stdout",
     "output_type": "stream",
     "text": [
      "CPU times: user 5.8 s, sys: 2.86 s, total: 8.66 s\n",
      "Wall time: 17.1 s\n"
     ]
    }
   ],
   "source": [
    "%%time\n",
    "\n",
    "import timesfm\n",
    "\n",
    "# Initialize the TimeSFM model\n",
    "tm = timesfm.TimesFm(\n",
    "      hparams=timesfm.TimesFmHparams(\n",
    "          backend=\"gpu\",\n",
    "          per_core_batch_size=64,\n",
    "          horizon_len=480, # output default 128\n",
    "          num_layers=50,\n",
    "          use_positional_embedding=False,\n",
    "          context_len=4096, # input defaut 2048\n",
    "      ),\n",
    "      checkpoint= timesfm.TimesFmCheckpoint(\n",
    "          huggingface_repo_id=\"google/timesfm-2.0-500m-pytorch\"),\n",
    "  )"
   ]
  },
  {
   "cell_type": "code",
   "execution_count": 4,
   "metadata": {
    "executionInfo": {
     "elapsed": 257,
     "status": "ok",
     "timestamp": 1745368730248,
     "user": {
      "displayName": "Prudhvi Vuda",
      "userId": "03491555400063096738"
     },
     "user_tz": 240
    },
    "id": "AmWIuBfp8rku"
   },
   "outputs": [],
   "source": [
    "# Load the dataset\n",
    "import pandas as pd\n",
    "import numpy as np\n",
    "data = pd.read_csv(\"/content/weatherHistory.csv\")\n"
   ]
  },
  {
   "cell_type": "code",
   "execution_count": 5,
   "metadata": {
    "executionInfo": {
     "elapsed": 4,
     "status": "ok",
     "timestamp": 1745368730258,
     "user": {
      "displayName": "Prudhvi Vuda",
      "userId": "03491555400063096738"
     },
     "user_tz": 240
    },
    "id": "DpxepGUZ9BVK"
   },
   "outputs": [],
   "source": [
    "# Convert the temperature data to a NumPy array\n",
    "temperature_data = data['Temperature (C)'].values  # Shape: (num_hours,)\n",
    "\n",
    "# Extract the past year's hourly temperature data (last 8760 hours)\n",
    "input_context = temperature_data[:4096]  # Last year's data\n",
    "\n",
    "forecast_input = [input_context]  # Wrap in a list as required by TimesFm\n",
    "frequency_input = [1]  # Hourly frequency"
   ]
  },
  {
   "cell_type": "code",
   "execution_count": 6,
   "metadata": {
    "executionInfo": {
     "elapsed": 10562,
     "status": "ok",
     "timestamp": 1745368740820,
     "user": {
      "displayName": "Prudhvi Vuda",
      "userId": "03491555400063096738"
     },
     "user_tz": 240
    },
    "id": "zce2NlPY7L1T"
   },
   "outputs": [],
   "source": [
    "# Generate predictions\n",
    "point_forecast, experimental_quantile_forecast = tm.forecast(\n",
    "    forecast_input,\n",
    "    freq=frequency_input,\n",
    ")\n",
    "\n",
    "# Extract the point forecast (predicted temperatures)\n",
    "predicted_temperatures = point_forecast[0]  # First element corresponds to the first time series"
   ]
  },
  {
   "cell_type": "code",
   "execution_count": 7,
   "metadata": {
    "colab": {
     "base_uri": "https://localhost:8080/"
    },
    "executionInfo": {
     "elapsed": 8,
     "status": "ok",
     "timestamp": 1745368740832,
     "user": {
      "displayName": "Prudhvi Vuda",
      "userId": "03491555400063096738"
     },
     "user_tz": 240
    },
    "id": "NBZJU8bT7X_g",
    "outputId": "875b8f63-c03b-4fed-cd03-186a7a757632"
   },
   "outputs": [
    {
     "data": {
      "text/plain": [
       "array([ 2.17288551e+01,  1.58553829e+01,  1.61622543e+01,  1.56538944e+01,\n",
       "        1.87562008e+01,  1.18882198e+01,  1.62914505e+01,  1.67530766e+01,\n",
       "        1.54348040e+01,  2.08960915e+01,  1.79539776e+01,  1.66426430e+01,\n",
       "        1.53833551e+01,  1.51435652e+01,  1.79370499e+01,  1.32214251e+01,\n",
       "        1.43168297e+01,  1.29943256e+01,  1.50952425e+01,  1.52871952e+01,\n",
       "        1.67619286e+01,  1.32313452e+01,  9.99992371e+00,  9.42231560e+00,\n",
       "        1.28811970e+01,  7.98831367e+00,  9.61384392e+00,  8.24247456e+00,\n",
       "        1.25247526e+01,  7.68435383e+00,  9.51503754e+00,  1.14828281e+01,\n",
       "        1.45342560e+01,  1.65030289e+01,  1.96192799e+01,  1.93571701e+01,\n",
       "        1.76294727e+01,  1.10055723e+01,  1.09877892e+01,  1.37619448e+01,\n",
       "        8.76059246e+00,  9.05152416e+00,  9.54795742e+00,  1.33222380e+01,\n",
       "        1.26305313e+01,  1.41184387e+01,  1.56574669e+01,  1.22114658e+01,\n",
       "        1.51510744e+01,  1.29414444e+01,  1.77672844e+01,  1.02103567e+01,\n",
       "        1.28918114e+01,  1.13153744e+01,  1.15743761e+01,  9.81094170e+00,\n",
       "        1.50005474e+01,  1.65165291e+01,  1.30811234e+01,  9.81417274e+00,\n",
       "        1.33032541e+01,  1.07704830e+01,  1.21337156e+01,  1.30746040e+01,\n",
       "        1.23607483e+01,  9.73541641e+00,  1.68100338e+01,  1.76483402e+01,\n",
       "        1.78394470e+01,  2.01290588e+01,  1.90034485e+01,  1.52343960e+01,\n",
       "        1.82780113e+01,  1.72292519e+01,  1.89774551e+01,  1.38607998e+01,\n",
       "        1.75455856e+01,  1.43816204e+01,  1.56846485e+01,  1.34657927e+01,\n",
       "        1.60237007e+01,  1.91265373e+01,  1.77127571e+01,  1.25795784e+01,\n",
       "        1.25720024e+01,  1.05194635e+01,  1.27334871e+01,  1.15003052e+01,\n",
       "        1.17808228e+01,  1.14414339e+01,  1.67130508e+01,  1.43937454e+01,\n",
       "        1.03632774e+01,  9.58537769e+00,  1.15142059e+01,  1.09338713e+01,\n",
       "        1.50894432e+01,  1.35854130e+01,  1.72766190e+01,  1.19095497e+01,\n",
       "        1.06895866e+01,  1.26942062e+01,  1.24616995e+01,  1.99633236e+01,\n",
       "        1.66407585e+01,  1.52164259e+01,  1.59834795e+01,  1.60239105e+01,\n",
       "        1.58078136e+01,  1.41443806e+01,  1.24679852e+01,  1.16568832e+01,\n",
       "        1.59399776e+01,  1.64515266e+01,  1.71306629e+01,  1.39504833e+01,\n",
       "        1.96645241e+01,  1.88608761e+01,  1.62675095e+01,  1.48275013e+01,\n",
       "        1.57488327e+01,  1.55639534e+01,  1.88811531e+01,  1.70401001e+01,\n",
       "        1.47251453e+01,  1.31814804e+01,  1.94803944e+01,  2.15458984e+01,\n",
       "        2.01232491e+01,  1.71902790e+01,  1.92886562e+01,  1.84780979e+01,\n",
       "        2.12006798e+01,  1.70189285e+01,  2.04642448e+01,  2.10112019e+01,\n",
       "        1.98701706e+01,  2.29855461e+01,  2.15959644e+01,  2.16377373e+01,\n",
       "        2.11145515e+01,  2.04606724e+01,  2.23022385e+01,  1.73662300e+01,\n",
       "        1.86786156e+01,  1.75399780e+01,  1.85182762e+01,  1.67185040e+01,\n",
       "        1.78915882e+01,  1.63274174e+01,  1.27429123e+01,  1.22892532e+01,\n",
       "        1.48937740e+01,  1.27208290e+01,  1.38722172e+01,  1.33323936e+01,\n",
       "        1.48958721e+01,  1.12789650e+01,  1.29637775e+01,  1.45796080e+01,\n",
       "        1.63185635e+01,  1.86517372e+01,  2.06810760e+01,  2.10859509e+01,\n",
       "        1.91488743e+01,  1.45590715e+01,  1.42039938e+01,  1.53358879e+01,\n",
       "        1.04074125e+01,  1.14883299e+01,  1.17046709e+01,  1.32999821e+01,\n",
       "        1.34127626e+01,  1.56694307e+01,  1.65353470e+01,  1.45924664e+01,\n",
       "        1.64386425e+01,  1.44604740e+01,  1.53505259e+01,  1.15762415e+01,\n",
       "        1.40720835e+01,  1.38536367e+01,  1.43978395e+01,  1.30980539e+01,\n",
       "        1.63671951e+01,  1.59561157e+01,  1.49597330e+01,  1.32913303e+01,\n",
       "        1.48826504e+01,  1.35325308e+01,  1.41443195e+01,  1.39153881e+01,\n",
       "        1.17568054e+01,  1.08401794e+01,  1.62406216e+01,  1.79018421e+01,\n",
       "        1.94238415e+01,  2.24493713e+01,  2.07787819e+01,  1.76502762e+01,\n",
       "        1.99965153e+01,  1.98371792e+01,  2.13221550e+01,  1.65960751e+01,\n",
       "        1.87173252e+01,  1.69864197e+01,  1.77544594e+01,  1.47985468e+01,\n",
       "        1.78879642e+01,  1.87826328e+01,  1.87906971e+01,  1.45559340e+01,\n",
       "        1.67602177e+01,  1.58311930e+01,  1.63095951e+01,  1.61158085e+01,\n",
       "        1.54203835e+01,  1.32499876e+01,  1.62816830e+01,  1.58414450e+01,\n",
       "        1.22041931e+01,  1.26356955e+01,  1.38808517e+01,  1.45647526e+01,\n",
       "        1.60806427e+01,  1.60594254e+01,  1.93290501e+01,  1.37053890e+01,\n",
       "        1.25797548e+01,  1.52141466e+01,  1.47944059e+01,  1.90527191e+01,\n",
       "        1.94364491e+01,  1.90591583e+01,  2.04868412e+01,  2.03110447e+01,\n",
       "        2.01337185e+01,  1.72136745e+01,  1.61340065e+01,  1.55924683e+01,\n",
       "        1.72876358e+01,  1.56542053e+01,  1.60557003e+01,  1.36722240e+01,\n",
       "        1.88410873e+01,  1.90261345e+01,  1.63954010e+01,  1.62765961e+01,\n",
       "        1.48738909e+01,  1.52360287e+01,  1.82609882e+01,  1.70588036e+01,\n",
       "        1.64602261e+01,  1.71791267e+01,  2.14869385e+01,  1.99810925e+01,\n",
       "        1.34947062e+01,  1.05155363e+01,  1.27334805e+01,  1.15253973e+01,\n",
       "        1.42260303e+01,  1.03775263e+01,  1.43811941e+01,  1.47322731e+01,\n",
       "        1.34403906e+01,  1.78855934e+01,  1.64205322e+01,  1.64946976e+01,\n",
       "        1.57361650e+01,  1.48508987e+01,  1.65294170e+01,  1.21621113e+01,\n",
       "        1.42286081e+01,  1.23544960e+01,  1.36214886e+01,  1.30042105e+01,\n",
       "        1.28787870e+01,  9.96723652e+00,  7.69871426e+00,  7.61278772e+00,\n",
       "        1.11789188e+01,  8.98614883e+00,  1.03826866e+01,  1.00441694e+01,\n",
       "        1.04319801e+01,  6.96344519e+00,  8.56214905e+00,  1.04873428e+01,\n",
       "        1.24392586e+01,  1.32011499e+01,  1.48865175e+01,  1.42190027e+01,\n",
       "        1.40944080e+01,  1.06036186e+01,  1.07518530e+01,  1.22025528e+01,\n",
       "        8.85430145e+00,  9.53287888e+00,  8.62633228e+00,  9.25160027e+00,\n",
       "        9.96061802e+00,  1.07272387e+01,  1.20005016e+01,  1.07586470e+01,\n",
       "        1.23425493e+01,  1.10587234e+01,  1.28432798e+01,  8.52980995e+00,\n",
       "        9.55508709e+00,  9.66062355e+00,  1.06251259e+01,  9.33520699e+00,\n",
       "        1.19210405e+01,  1.24917297e+01,  1.32821808e+01,  1.06783180e+01,\n",
       "        1.18299503e+01,  1.14622068e+01,  1.30569506e+01,  1.34477911e+01,\n",
       "        1.13127422e+01,  1.13257971e+01,  1.56815968e+01,  1.64611912e+01,\n",
       "        1.70076981e+01,  1.76956596e+01,  1.50766468e+01,  1.33338175e+01,\n",
       "        1.61782818e+01,  1.60919399e+01,  1.78508911e+01,  1.43741074e+01,\n",
       "        1.54816151e+01,  1.32277126e+01,  1.42339706e+01,  1.26571779e+01,\n",
       "        1.43976192e+01,  1.43228397e+01,  1.49407740e+01,  1.04788408e+01,\n",
       "        1.13123350e+01,  1.13807297e+01,  1.31744204e+01,  1.34818897e+01,\n",
       "        1.21612892e+01,  1.24345083e+01,  1.49361172e+01,  1.21136875e+01,\n",
       "        9.45269203e+00,  1.01401768e+01,  1.09481506e+01,  1.09271297e+01,\n",
       "        1.37112312e+01,  1.42840729e+01,  1.68495464e+01,  1.20875511e+01,\n",
       "        9.33840370e+00,  1.09540195e+01,  1.05301075e+01,  1.45883226e+01,\n",
       "        1.33468275e+01,  1.07498226e+01,  1.34180021e+01,  1.43026209e+01,\n",
       "        1.54411297e+01,  1.42000113e+01,  1.38093681e+01,  1.40692158e+01,\n",
       "        1.50533609e+01,  1.57535782e+01,  1.56894321e+01,  1.35065536e+01,\n",
       "        1.71992550e+01,  1.70230885e+01,  1.48538418e+01,  1.44656239e+01,\n",
       "        1.46013718e+01,  1.50631781e+01,  1.82719955e+01,  1.64351578e+01,\n",
       "        1.47779760e+01,  1.36388283e+01,  1.63773746e+01,  1.63428726e+01,\n",
       "        1.88747501e+00, -8.33614159e+00, -9.71508026e-01, -6.07588768e+00,\n",
       "        9.57010269e-01, -6.68990326e+00,  1.15461349e-02, -2.58836937e+00,\n",
       "       -2.70047760e+00,  7.44253349e+00,  5.35243702e+00,  4.17119789e+00,\n",
       "        3.34733486e+00,  1.29742241e+00,  8.69405937e+00, -5.65341949e-01,\n",
       "        3.25776672e+00,  3.74535561e-01,  4.06657505e+00,  7.47634125e+00,\n",
       "        7.90345240e+00,  1.57556629e+00, -2.26160431e+00, -7.28995323e+00,\n",
       "        7.90809631e-01, -7.09759903e+00, -1.56207848e+00, -5.30951500e+00,\n",
       "        2.65460968e-01, -7.37856674e+00, -3.79348183e+00, -2.92458153e+00,\n",
       "        3.95501423e+00,  5.31499863e+00,  8.96375847e+00,  9.79245186e+00,\n",
       "        1.44043303e+01,  3.21402645e+00,  4.74192429e+00,  5.97792625e+00,\n",
       "        1.59460163e+00,  1.07767010e+00,  2.21955395e+00,  4.29573536e+00,\n",
       "        5.85743904e+00,  3.89975071e+00,  1.14762926e+01,  6.85952854e+00,\n",
       "        7.58743000e+00,  1.19600677e+00,  1.18192329e+01, -2.20378113e+00,\n",
       "        1.69251442e-01, -3.00328064e+00, -1.44418335e+00, -3.55699730e+00,\n",
       "        4.39441395e+00,  8.31814575e+00,  7.49188805e+00, -4.51101303e-01,\n",
       "        5.77587891e+00,  4.95874882e+00,  7.93477392e+00,  9.29890633e+00,\n",
       "        7.70600080e+00,  7.20990181e+00,  1.69104443e+01,  1.74463482e+01,\n",
       "        1.79692154e+01,  1.91977196e+01,  1.74061298e+01,  1.00281792e+01,\n",
       "        1.50272551e+01,  1.23090191e+01,  1.85802345e+01,  1.11066761e+01,\n",
       "        1.27080154e+01,  6.50224113e+00,  9.55653572e+00,  4.95195866e+00,\n",
       "        9.73592758e+00,  8.93903542e+00,  1.33336439e+01,  6.50041866e+00,\n",
       "        8.23229218e+00,  3.38684368e+00,  1.05588293e+01,  7.19794083e+00,\n",
       "        5.36948395e+00,  7.92723799e+00,  1.56670570e+01,  1.08640614e+01,\n",
       "        4.01687908e+00,  2.99979305e+00,  6.12425423e+00,  6.61238289e+00],\n",
       "      dtype=float32)"
      ]
     },
     "execution_count": 7,
     "metadata": {},
     "output_type": "execute_result"
    }
   ],
   "source": [
    "predicted_temperatures"
   ]
  },
  {
   "cell_type": "code",
   "execution_count": 8,
   "metadata": {
    "colab": {
     "base_uri": "https://localhost:8080/"
    },
    "executionInfo": {
     "elapsed": 7,
     "status": "ok",
     "timestamp": 1745368740839,
     "user": {
      "displayName": "Prudhvi Vuda",
      "userId": "03491555400063096738"
     },
     "user_tz": 240
    },
    "id": "syldJQ9P7dyU",
    "outputId": "38f990e3-6201-4cea-d29a-99da6fb3c555"
   },
   "outputs": [
    {
     "data": {
      "text/plain": [
       "480"
      ]
     },
     "execution_count": 8,
     "metadata": {},
     "output_type": "execute_result"
    }
   ],
   "source": [
    "len(predicted_temperatures)"
   ]
  },
  {
   "cell_type": "code",
   "execution_count": 9,
   "metadata": {
    "executionInfo": {
     "elapsed": 3,
     "status": "ok",
     "timestamp": 1745368740843,
     "user": {
      "displayName": "Prudhvi Vuda",
      "userId": "03491555400063096738"
     },
     "user_tz": 240
    },
    "id": "-PVsiKGS7S8M"
   },
   "outputs": [],
   "source": [
    "actual_temperatures = data['Temperature (C)'].values[4096:4576]  # Last 128 hours of data"
   ]
  },
  {
   "cell_type": "code",
   "execution_count": 10,
   "metadata": {
    "colab": {
     "base_uri": "https://localhost:8080/",
     "height": 411
    },
    "executionInfo": {
     "elapsed": 266,
     "status": "ok",
     "timestamp": 1745368741109,
     "user": {
      "displayName": "Prudhvi Vuda",
      "userId": "03491555400063096738"
     },
     "user_tz": 240
    },
    "id": "ZnyzCIE77Uab",
    "outputId": "4fccb2a6-183e-4d27-e9e9-90c489909799"
   },
   "outputs": [
    {
     "data": {
      "image/png": "[encoded data removed]",
      "text/plain": [
       "<Figure size 1400x600 with 1 Axes>"
      ]
     },
     "metadata": {},
     "output_type": "display_data"
    }
   ],
   "source": [
    "import matplotlib.pyplot as plt\n",
    "\n",
    "# Plot actual vs predicted temperatures\n",
    "plt.figure(figsize=(14, 6))\n",
    "plt.plot(actual_temperatures, label='Actual Temperature', color='blue')\n",
    "plt.plot(predicted_temperatures, label='Predicted Temperature', color='orange')\n",
    "plt.xlabel('Hour')\n",
    "plt.ylabel('Temperature (°C)')\n",
    "plt.title('Actual vs Predicted Temperatures')\n",
    "plt.legend()\n",
    "plt.grid()\n",
    "plt.show()"
   ]
  },
  {
   "cell_type": "code",
   "execution_count": 11,
   "metadata": {
    "colab": {
     "base_uri": "https://localhost:8080/"
    },
    "executionInfo": {
     "elapsed": 8,
     "status": "ok",
     "timestamp": 1745368741118,
     "user": {
      "displayName": "Prudhvi Vuda",
      "userId": "03491555400063096738"
     },
     "user_tz": 240
    },
    "id": "SBisrGMw7W58",
    "outputId": "0c111cdb-779f-46f6-dd66-c82c7d760b99"
   },
   "outputs": [
    {
     "name": "stdout",
     "output_type": "stream",
     "text": [
      "Mean Absolute Error (MAE): 8.69 °C\n",
      "Root Mean Squared Error (RMSE): 11.01 °C\n"
     ]
    }
   ],
   "source": [
    "from sklearn.metrics import mean_absolute_error, mean_squared_error\n",
    "\n",
    "# Calculate evaluation metrics\n",
    "mae = mean_absolute_error(actual_temperatures, predicted_temperatures)\n",
    "rmse = np.sqrt(mean_squared_error(actual_temperatures, predicted_temperatures))\n",
    "\n",
    "# Print results\n",
    "print(f\"Mean Absolute Error (MAE): {mae:.2f} °C\")\n",
    "print(f\"Root Mean Squared Error (RMSE): {rmse:.2f} °C\")"
   ]
  }
 ],
 "metadata": {
  "accelerator": "GPU",
  "colab": {
   "authorship_tag": "ABX9TyMwovKusi4gLtyLeR4NzZG2",
   "gpuType": "T4",
   "provenance": []
  },
  "kernelspec": {
   "display_name": "genai",
   "language": "python",
   "name": "python3"
  },
  "language_info": {
   "name": "python",
   "version": "3.12.8"
  },
  "widgets": {
   "application/vnd.jupyter.widget-state+json": {
    "06dd81f212de45d5a12911af21813bcc": {
     "model_module": "@jupyter-widgets/controls",
     "model_module_version": "1.5.0",
     "model_name": "HTMLModel",
     "state": {
      "_dom_classes": [],
      "_model_module": "@jupyter-widgets/controls",
      "_model_module_version": "1.5.0",
      "_model_name": "HTMLModel",
      "_view_count": null,
      "_view_module": "@jupyter-widgets/controls",
      "_view_module_version": "1.5.0",
      "_view_name": "HTMLView",
      "description": "",
      "description_tooltip": null,
      "layout": "IPY_MODEL_375d3c3f3310482c894e21da70256939",
      "placeholder": "​",
      "style": "IPY_MODEL_e78ff3e65158419c88e0bc18df9f4e7f",
      "value": "Fetching 5 files: 100%"
     }
    },
    "12f1b0b05dab4de48819625ac92876b5": {
     "model_module": "@jupyter-widgets/controls",
     "model_module_version": "1.5.0",
     "model_name": "DescriptionStyleModel",
     "state": {
      "_model_module": "@jupyter-widgets/controls",
      "_model_module_version": "1.5.0",
      "_model_name": "DescriptionStyleModel",
      "_view_count": null,
      "_view_module": "@jupyter-widgets/base",
      "_view_module_version": "1.2.0",
      "_view_name": "StyleView",
      "description_width": ""
     }
    },
    "375d3c3f3310482c894e21da70256939": {
     "model_module": "@jupyter-widgets/base",
     "model_module_version": "1.2.0",
     "model_name": "LayoutModel",
     "state": {
      "_model_module": "@jupyter-widgets/base",
      "_model_module_version": "1.2.0",
      "_model_name": "LayoutModel",
      "_view_count": null,
      "_view_module": "@jupyter-widgets/base",
      "_view_module_version": "1.2.0",
      "_view_name": "LayoutView",
      "align_content": null,
      "align_items": null,
      "align_self": null,
      "border": null,
      "bottom": null,
      "display": null,
      "flex": null,
      "flex_flow": null,
      "grid_area": null,
      "grid_auto_columns": null,
      "grid_auto_flow": null,
      "grid_auto_rows": null,
      "grid_column": null,
      "grid_gap": null,
      "grid_row": null,
      "grid_template_areas": null,
      "grid_template_columns": null,
      "grid_template_rows": null,
      "height": null,
      "justify_content": null,
      "justify_items": null,
      "left": null,
      "margin": null,
      "max_height": null,
      "max_width": null,
      "min_height": null,
      "min_width": null,
      "object_fit": null,
      "object_position": null,
      "order": null,
      "overflow": null,
      "overflow_x": null,
      "overflow_y": null,
      "padding": null,
      "right": null,
      "top": null,
      "visibility": null,
      "width": null
     }
    },
    "3f27f732d1fc4d3288f07ba2114c9a3b": {
     "model_module": "@jupyter-widgets/controls",
     "model_module_version": "1.5.0",
     "model_name": "FloatProgressModel",
     "state": {
      "_dom_classes": [],
      "_model_module": "@jupyter-widgets/controls",
      "_model_module_version": "1.5.0",
      "_model_name": "FloatProgressModel",
      "_view_count": null,
      "_view_module": "@jupyter-widgets/controls",
      "_view_module_version": "1.5.0",
      "_view_name": "ProgressView",
      "bar_style": "success",
      "description": "",
      "description_tooltip": null,
      "layout": "IPY_MODEL_5b82cf80039d4130a40a1dd16da1495b",
      "max": 5,
      "min": 0,
      "orientation": "horizontal",
      "style": "IPY_MODEL_7b8389e735374a0f9d1007f7f6f43dda",
      "value": 5
     }
    },
    "44af7c37d4b84567a92913e421de37e4": {
     "model_module": "@jupyter-widgets/base",
     "model_module_version": "1.2.0",
     "model_name": "LayoutModel",
     "state": {
      "_model_module": "@jupyter-widgets/base",
      "_model_module_version": "1.2.0",
      "_model_name": "LayoutModel",
      "_view_count": null,
      "_view_module": "@jupyter-widgets/base",
      "_view_module_version": "1.2.0",
      "_view_name": "LayoutView",
      "align_content": null,
      "align_items": null,
      "align_self": null,
      "border": null,
      "bottom": null,
      "display": null,
      "flex": null,
      "flex_flow": null,
      "grid_area": null,
      "grid_auto_columns": null,
      "grid_auto_flow": null,
      "grid_auto_rows": null,
      "grid_column": null,
      "grid_gap": null,
      "grid_row": null,
      "grid_template_areas": null,
      "grid_template_columns": null,
      "grid_template_rows": null,
      "height": null,
      "justify_content": null,
      "justify_items": null,
      "left": null,
      "margin": null,
      "max_height": null,
      "max_width": null,
      "min_height": null,
      "min_width": null,
      "object_fit": null,
      "object_position": null,
      "order": null,
      "overflow": null,
      "overflow_x": null,
      "overflow_y": null,
      "padding": null,
      "right": null,
      "top": null,
      "visibility": null,
      "width": null
     }
    },
    "5b82cf80039d4130a40a1dd16da1495b": {
     "model_module": "@jupyter-widgets/base",
     "model_module_version": "1.2.0",
     "model_name": "LayoutModel",
     "state": {
      "_model_module": "@jupyter-widgets/base",
      "_model_module_version": "1.2.0",
      "_model_name": "LayoutModel",
      "_view_count": null,
      "_view_module": "@jupyter-widgets/base",
      "_view_module_version": "1.2.0",
      "_view_name": "LayoutView",
      "align_content": null,
      "align_items": null,
      "align_self": null,
      "border": null,
      "bottom": null,
      "display": null,
      "flex": null,
      "flex_flow": null,
      "grid_area": null,
      "grid_auto_columns": null,
      "grid_auto_flow": null,
      "grid_auto_rows": null,
      "grid_column": null,
      "grid_gap": null,
      "grid_row": null,
      "grid_template_areas": null,
      "grid_template_columns": null,
      "grid_template_rows": null,
      "height": null,
      "justify_content": null,
      "justify_items": null,
      "left": null,
      "margin": null,
      "max_height": null,
      "max_width": null,
      "min_height": null,
      "min_width": null,
      "object_fit": null,
      "object_position": null,
      "order": null,
      "overflow": null,
      "overflow_x": null,
      "overflow_y": null,
      "padding": null,
      "right": null,
      "top": null,
      "visibility": null,
      "width": null
     }
    },
    "6c6fca62050d45518a3d7984a1bb8bb3": {
     "model_module": "@jupyter-widgets/controls",
     "model_module_version": "1.5.0",
     "model_name": "HBoxModel",
     "state": {
      "_dom_classes": [],
      "_model_module": "@jupyter-widgets/controls",
      "_model_module_version": "1.5.0",
      "_model_name": "HBoxModel",
      "_view_count": null,
      "_view_module": "@jupyter-widgets/controls",
      "_view_module_version": "1.5.0",
      "_view_name": "HBoxView",
      "box_style": "",
      "children": [
       "IPY_MODEL_06dd81f212de45d5a12911af21813bcc",
       "IPY_MODEL_3f27f732d1fc4d3288f07ba2114c9a3b",
       "IPY_MODEL_b42773a0bf044f59b2982d1c74a7d5ad"
      ],
      "layout": "IPY_MODEL_44af7c37d4b84567a92913e421de37e4"
     }
    },
    "7b8389e735374a0f9d1007f7f6f43dda": {
     "model_module": "@jupyter-widgets/controls",
     "model_module_version": "1.5.0",
     "model_name": "ProgressStyleModel",
     "state": {
      "_model_module": "@jupyter-widgets/controls",
      "_model_module_version": "1.5.0",
      "_model_name": "ProgressStyleModel",
      "_view_count": null,
      "_view_module": "@jupyter-widgets/base",
      "_view_module_version": "1.2.0",
      "_view_name": "StyleView",
      "bar_color": null,
      "description_width": ""
     }
    },
    "b42773a0bf044f59b2982d1c74a7d5ad": {
     "model_module": "@jupyter-widgets/controls",
     "model_module_version": "1.5.0",
     "model_name": "HTMLModel",
     "state": {
      "_dom_classes": [],
      "_model_module": "@jupyter-widgets/controls",
      "_model_module_version": "1.5.0",
      "_model_name": "HTMLModel",
      "_view_count": null,
      "_view_module": "@jupyter-widgets/controls",
      "_view_module_version": "1.5.0",
      "_view_name": "HTMLView",
      "description": "",
      "description_tooltip": null,
      "layout": "IPY_MODEL_c70a8ca5823b47438d40f41e61b0f984",
      "placeholder": "​",
      "style": "IPY_MODEL_12f1b0b05dab4de48819625ac92876b5",
      "value": " 5/5 [00:00&lt;00:00, 212.86it/s]"
     }
    },
    "c70a8ca5823b47438d40f41e61b0f984": {
     "model_module": "@jupyter-widgets/base",
     "model_module_version": "1.2.0",
     "model_name": "LayoutModel",
     "state": {
      "_model_module": "@jupyter-widgets/base",
      "_model_module_version": "1.2.0",
      "_model_name": "LayoutModel",
      "_view_count": null,
      "_view_module": "@jupyter-widgets/base",
      "_view_module_version": "1.2.0",
      "_view_name": "LayoutView",
      "align_content": null,
      "align_items": null,
      "align_self": null,
      "border": null,
      "bottom": null,
      "display": null,
      "flex": null,
      "flex_flow": null,
      "grid_area": null,
      "grid_auto_columns": null,
      "grid_auto_flow": null,
      "grid_auto_rows": null,
      "grid_column": null,
      "grid_gap": null,
      "grid_row": null,
      "grid_template_areas": null,
      "grid_template_columns": null,
      "grid_template_rows": null,
      "height": null,
      "justify_content": null,
      "justify_items": null,
      "left": null,
      "margin": null,
      "max_height": null,
      "max_width": null,
      "min_height": null,
      "min_width": null,
      "object_fit": null,
      "object_position": null,
      "order": null,
      "overflow": null,
      "overflow_x": null,
      "overflow_y": null,
      "padding": null,
      "right": null,
      "top": null,
      "visibility": null,
      "width": null
     }
    },
    "e78ff3e65158419c88e0bc18df9f4e7f": {
     "model_module": "@jupyter-widgets/controls",
     "model_module_version": "1.5.0",
     "model_name": "DescriptionStyleModel",
     "state": {
      "_model_module": "@jupyter-widgets/controls",
      "_model_module_version": "1.5.0",
      "_model_name": "DescriptionStyleModel",
      "_view_count": null,
      "_view_module": "@jupyter-widgets/base",
      "_view_module_version": "1.2.0",
      "_view_name": "StyleView",
      "description_width": ""
     }
    }
   }
  }
 },
 "nbformat": 4,
 "nbformat_minor": 0
}
